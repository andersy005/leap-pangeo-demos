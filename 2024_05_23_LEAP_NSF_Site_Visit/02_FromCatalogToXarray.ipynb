{
 "cells": [
  {
   "cell_type": "markdown",
   "id": "4838c4d3-20c4-4007-842e-4a5c0e52bfa2",
   "metadata": {},
   "source": [
    "# From Catalog to Xarray - Starting to do research with Cloud Data"
   ]
  },
  {
   "cell_type": "code",
   "execution_count": null,
   "id": "28b94706-e631-46c1-b603-92ee83dfdedc",
   "metadata": {},
   "outputs": [],
   "source": [
    "import matplotlib.pyplot as plt\n",
    "import cartopy.crs as ccrs"
   ]
  },
  {
   "cell_type": "code",
   "execution_count": null,
   "id": "9dbfab65-ba96-4a6f-98f6-033d4aea683b",
   "metadata": {},
   "outputs": [],
   "source": [
    "from distributed import Client\n",
    "client = Client()\n",
    "client"
   ]
  },
  {
   "cell_type": "markdown",
   "id": "fa1e745f-3610-488e-a5cc-31d48d3371c2",
   "metadata": {},
   "source": [
    "😎 Everything is cooler with a dashboard, click the \"Launch dashboard in JupyterLab\" button ☝️\n",
    "\n",
    "## The LEAP Catalog (in collaboration with Carbonplan)\n",
    "\n",
    "Lets take a look at our  [LEAP Data Catalog](https://catalog.leap.carbonplan.org/) (Final URL still pending).\n",
    "\n",
    "Navigate to any of the datasets, click on the ➕ next to a dataset, and get a copy/pasteable snippet!\n",
    "\n",
    "If you want to follow along with me, go for \"Sea-surface altimetry data from The Copernicus Marine Environment\", but you can also choose another dataset (not all the steps demonstrated might work with particular datasets though). "
   ]
  },
  {
   "cell_type": "code",
   "execution_count": null,
   "id": "a1543166-85d2-4675-8168-858f7b15d451",
   "metadata": {},
   "outputs": [],
   "source": []
  },
  {
   "cell_type": "code",
   "execution_count": null,
   "id": "67e3666a-f562-4be5-82d9-f692cef8ed8b",
   "metadata": {},
   "outputs": [],
   "source": [
    "ds"
   ]
  },
  {
   "cell_type": "markdown",
   "id": "d2cec6e4-8f35-4a9d-9a6a-b8fb0c7c6627",
   "metadata": {},
   "source": [
    "## Lets get familiar with Xarray"
   ]
  },
  {
   "cell_type": "code",
   "execution_count": null,
   "id": "f66ac489-1ab4-4099-b885-9f0d8113d16f",
   "metadata": {},
   "outputs": [],
   "source": [
    "# lets look at only one of the variables"
   ]
  },
  {
   "cell_type": "code",
   "execution_count": null,
   "id": "847dd0c7-755b-4181-8bd0-421c47656650",
   "metadata": {},
   "outputs": [],
   "source": [
    "# Select only the first two years"
   ]
  },
  {
   "cell_type": "code",
   "execution_count": null,
   "id": "97ac5110-3a96-48f1-a0b3-552a41fa48cf",
   "metadata": {},
   "outputs": [],
   "source": [
    "# lets plot a map (by combining what we did before)"
   ]
  },
  {
   "cell_type": "code",
   "execution_count": null,
   "id": "a8c8b997-18ae-42f7-aca5-e3e7d1c839a3",
   "metadata": {},
   "outputs": [],
   "source": [
    "# Now lets mark a location and plot it on the map"
   ]
  },
  {
   "cell_type": "markdown",
   "id": "252b04ad-86da-4639-bbb2-9aaed5923d18",
   "metadata": {},
   "source": [
    "## Now lets extract a timeseries at that location"
   ]
  },
  {
   "cell_type": "code",
   "execution_count": 1,
   "id": "ea4d8300-971b-4fe2-9579-7bad956f6eca",
   "metadata": {
    "scrolled": true
   },
   "outputs": [],
   "source": [
    "# extract a timeseries of sla at the closest data point to our location of interest"
   ]
  },
  {
   "cell_type": "code",
   "execution_count": null,
   "id": "10e4a419-ee46-498d-b691-26f07055749c",
   "metadata": {},
   "outputs": [],
   "source": [
    "# Plot the timeseries and try smoothing it with the `.running` method"
   ]
  },
  {
   "cell_type": "markdown",
   "id": "10e21cf6-e817-48e9-9589-f90c5a1515ff",
   "metadata": {},
   "source": [
    "## And for the final exercise - A map of standard deviation in time"
   ]
  },
  {
   "cell_type": "code",
   "execution_count": null,
   "id": "980e4cf3-7765-4c28-aab0-3ccd1b71f14f",
   "metadata": {},
   "outputs": [],
   "source": []
  },
  {
   "cell_type": "code",
   "execution_count": null,
   "id": "1bb5e91f-93ec-40c7-ae9c-2a745c11a759",
   "metadata": {},
   "outputs": [],
   "source": [
    "# the fancy map for your paper"
   ]
  }
 ],
 "metadata": {
  "kernelspec": {
   "display_name": "Python 3 (ipykernel)",
   "language": "python",
   "name": "python3"
  },
  "language_info": {
   "codemirror_mode": {
    "name": "ipython",
    "version": 3
   },
   "file_extension": ".py",
   "mimetype": "text/x-python",
   "name": "python",
   "nbconvert_exporter": "python",
   "pygments_lexer": "ipython3",
   "version": "3.11.9"
  }
 },
 "nbformat": 4,
 "nbformat_minor": 5
}

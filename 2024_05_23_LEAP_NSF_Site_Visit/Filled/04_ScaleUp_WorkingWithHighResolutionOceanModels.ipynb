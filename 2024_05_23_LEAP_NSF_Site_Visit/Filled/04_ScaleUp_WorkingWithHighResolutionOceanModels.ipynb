{
 "cells": [
  {
   "cell_type": "markdown",
   "id": "7ea95083-c7c9-48c6-a474-64182f7de913",
   "metadata": {},
   "source": [
    "# Scaling up compute - Working with CM2.6\n",
    "\n",
    "This is a supposed to be a 'real-life' science workflow example. No tiny well-behaved test cases. Instead you will see an approximation of how your science project could evolve, based on some of my experiences. The actual results do however not make a lot of sense, so there is still some work needed 😜. \n",
    "\n",
    "I will try to convey some core concepts that hopefully convince you of the awesomeness of **Analysis-Ready Cloud Optimized** (ARCO) data + flexible/scalable cloud computing:\n",
    "\n",
    "- Quickly loading/exploring huge datasets without *downloading them*\n",
    "\n",
    "- Analysis, scaled on demand, transitioning from exploration to heavy processing in minutes.\n",
    "\n",
    "As an example I have chosen to work on the [NOAA-GFDL CM2.6 high resolution coupled climate simulation](https://www.gfdl.noaa.gov/high-resolution-climate-modeling/). "
   ]
  },
  {
   "cell_type": "markdown",
   "id": "579125f5-847d-4db9-af25-2cb1f9411376",
   "metadata": {},
   "source": [
    "## Reading the data (lazily)"
   ]
  },
  {
   "cell_type": "code",
   "execution_count": 3,
   "id": "d8448383-3e8d-4d26-9387-b9411a222a26",
   "metadata": {
    "tags": []
   },
   "outputs": [],
   "source": [
    "# copy paste from catalog"
   ]
  },
  {
   "cell_type": "code",
   "execution_count": 4,
   "id": "c81b18ea-beec-401c-936e-fa8fe69d75bf",
   "metadata": {},
   "outputs": [],
   "source": [
    "# cut the dataset to the first ~3600 time steps (about 10 years)"
   ]
  },
  {
   "cell_type": "markdown",
   "id": "f9817c27-36b6-493a-9762-435a772f38ff",
   "metadata": {},
   "source": [
    "## Exploring the data\n",
    "\n",
    "### A quick plot"
   ]
  },
  {
   "cell_type": "code",
   "execution_count": null,
   "id": "b64b940b-f654-4d81-a391-85fe913bddf3",
   "metadata": {
    "tags": []
   },
   "outputs": [],
   "source": []
  },
  {
   "cell_type": "markdown",
   "id": "719d3fb8-b8d0-4915-80f1-a1635ed49a6d",
   "metadata": {},
   "source": [
    "### Something a bit more exciting\n",
    "\n",
    "[hvplot docs](https://hvplot.holoviz.org/index.html)"
   ]
  },
  {
   "cell_type": "code",
   "execution_count": null,
   "id": "f0639f4e-3aa1-4fa3-8026-0dbd7c6aa6d9",
   "metadata": {
    "tags": []
   },
   "outputs": [],
   "source": []
  },
  {
   "cell_type": "markdown",
   "id": "ec6117fc-9528-4ae8-8fca-7cdbb0d73fe0",
   "metadata": {},
   "source": [
    "## Moving from exploration to processing large amounts of data\n",
    "So far all of the data has been streamed on demand. We only load the data when we plot e.g. a certain time slice\n",
    "\n",
    "Lets run a bit larger computation"
   ]
  },
  {
   "cell_type": "code",
   "execution_count": null,
   "id": "226cc566-e115-4731-b834-cf8be4f6c86d",
   "metadata": {
    "tags": []
   },
   "outputs": [],
   "source": [
    "#from dask.diagnostics import ProgressBar\n",
    "#with ProgressBar():\n",
    "    # This is loaded into memory (processing the full data array) and showing a numpy array#\n",
    "#    display(ds.surface_temp.mean().load())"
   ]
  },
  {
   "cell_type": "markdown",
   "id": "07aae67e-a25b-4d29-8225-90027b69a1fe",
   "metadata": {},
   "source": [
    "This will eventually finish...\n",
    "\n",
    "...but I **hate** waiting!\n",
    "\n",
    "![](https://media.giphy.com/media/d31vwWHR0gLcLU76/giphy.gif)\n",
    "\n",
    "This is using dask under the hood to parallelize the computation, but there is only so much we can do with 4 CPU cores (or up to 16 depending on the server you chose). After all we are averaging 300GB! here. \n",
    "\n",
    "Depending on the dataset size it might be worth getting a distributed dask cluster set up. "
   ]
  },
  {
   "cell_type": "code",
   "execution_count": null,
   "id": "2eaec949-e1cf-4325-8c24-81d9a740ab4a",
   "metadata": {},
   "outputs": [],
   "source": []
  },
  {
   "cell_type": "code",
   "execution_count": null,
   "id": "d98dd422-c0f3-4f1e-9315-f69617aaf574",
   "metadata": {
    "scrolled": true,
    "tags": []
   },
   "outputs": [],
   "source": []
  },
  {
   "attachments": {},
   "cell_type": "markdown",
   "id": "edfec10c-5ba4-42a4-97c3-34eb4a32e8cc",
   "metadata": {},
   "source": [
    "**Make sure to copy the link 👆 into the dask sidebar**"
   ]
  },
  {
   "attachments": {},
   "cell_type": "markdown",
   "id": "961551f1-8dd4-475f-a669-dd1cf03dd903",
   "metadata": {},
   "source": [
    "So wait, what is happening here? \n",
    "\n",
    "By starting a Gateway cluster, we provisioned more kubernetes nodes in the cloud which run dask and can do work (we got 10*16 cores) for us as instructed from this notebook (which only has a few cores)!\n",
    "\n",
    "\n",
    "This might take a few minutes to start up, but is definitely worth it for very large computations. "
   ]
  },
  {
   "cell_type": "code",
   "execution_count": null,
   "id": "7259fc92-da44-48d6-8e17-aa7e609f844f",
   "metadata": {
    "tags": []
   },
   "outputs": [],
   "source": []
  },
  {
   "cell_type": "markdown",
   "id": "81b82685-9a82-47b5-ac5b-a64b7d0fdf75",
   "metadata": {},
   "source": [
    "## How about some filtering?\n",
    "\n",
    "Following the example in the [gcm-filters docs](https://gcm-filters.readthedocs.io/en/latest/gpu.html#filtering-on-cpus-versus-gpus)."
   ]
  },
  {
   "cell_type": "code",
   "execution_count": null,
   "id": "802a224e-8f13-4478-bfbd-19e940f3ec73",
   "metadata": {
    "tags": []
   },
   "outputs": [],
   "source": []
  },
  {
   "cell_type": "code",
   "execution_count": null,
   "id": "005338c3-9553-425c-996c-39daf4156706",
   "metadata": {
    "tags": []
   },
   "outputs": [],
   "source": [
    "# lets write the results out"
   ]
  },
  {
   "cell_type": "code",
   "execution_count": 5,
   "id": "02d12fed-5751-49c9-b61a-59003081d4b4",
   "metadata": {
    "tags": []
   },
   "outputs": [],
   "source": [
    "# and plot the results again"
   ]
  },
  {
   "cell_type": "markdown",
   "id": "ae4fd61d-5518-467e-95ba-8f2c41dcfee9",
   "metadata": {},
   "source": [
    "## Oh wait, my original dataset is not enough. \n",
    "\n",
    "I just figured out I need to look at some renalysis data 😱\n",
    "\n",
    "But it turns out someone else has already [ingested ERA5 for us](https://github.com/google-research/arco-era5) so we can continue the ARCO awesomeness!"
   ]
  },
  {
   "cell_type": "code",
   "execution_count": null,
   "id": "e203abc2-e4d1-403f-9c3f-b016296ecc88",
   "metadata": {
    "tags": []
   },
   "outputs": [],
   "source": [
    "import xarray\n",
    "era5 = xarray.open_zarr(\n",
    "    \"gs://gcp-public-data-arco-era5/ar/1959-2022-full_37-1h-0p25deg-chunk-1.zarr-v2\",\n",
    "    chunks={'time': 48},\n",
    "    consolidated=True,\n",
    ")\n",
    "era5 = era5.isel(time=slice(0, 50000))\n",
    "era5"
   ]
  },
  {
   "cell_type": "code",
   "execution_count": null,
   "id": "9c54b2cd-3c95-427c-96a6-e3019b98be72",
   "metadata": {
    "tags": []
   },
   "outputs": [],
   "source": [
    "era5['2m_temperature']"
   ]
  },
  {
   "cell_type": "code",
   "execution_count": null,
   "id": "29a57668-2ff1-4037-8b08-6a74dd9de7a2",
   "metadata": {
    "tags": []
   },
   "outputs": [],
   "source": [
    "mean_era5 = era5['2m_temperature'].mean('time').load()"
   ]
  },
  {
   "cell_type": "code",
   "execution_count": null,
   "id": "25544ea9-37c6-4d5e-9fe2-1f52b992d5b6",
   "metadata": {
    "tags": []
   },
   "outputs": [],
   "source": [
    "mean_era5.plot(robust=True)"
   ]
  },
  {
   "cell_type": "code",
   "execution_count": null,
   "id": "4d0256be-8a76-48dd-91b2-ce0cb04181f2",
   "metadata": {},
   "outputs": [],
   "source": [
    "cluster.shutdown()"
   ]
  }
 ],
 "metadata": {
  "kernelspec": {
   "display_name": "Python 3 (ipykernel)",
   "language": "python",
   "name": "python3"
  },
  "language_info": {
   "codemirror_mode": {
    "name": "ipython",
    "version": 3
   },
   "file_extension": ".py",
   "mimetype": "text/x-python",
   "name": "python",
   "nbconvert_exporter": "python",
   "pygments_lexer": "ipython3",
   "version": "3.11.9"
  }
 },
 "nbformat": 4,
 "nbformat_minor": 5
}

{
 "cells": [
  {
   "attachments": {},
   "cell_type": "markdown",
   "id": "96403cb3-4eab-4160-80cd-df32680b0c0e",
   "metadata": {},
   "source": [
    "# What is LEAP-Pangeo?\n",
    "\n",
    "<img src=\"https://leap.columbia.edu/wp-content/uploads/2024/05/LEAP-Pangeo.png\" width=\"600\"/>\n",
    "\n",
    "> LEAP Pangeo is our modern data cloud computing infrastructure for climate data science\n",
    "\n",
    "Check out our [technical docs](https://leap-stc.github.io/intro.html) for more information!"
   ]
  },
  {
   "cell_type": "markdown",
   "id": "f03001a6-f208-45c1-bbbb-ac7bd876ac66",
   "metadata": {},
   "source": [
    "## Components\n",
    "\n",
    "- **Data**: [Cloud Storage Buckets](https://leap-stc.github.io/leap-pangeo/jupyterhub.html#leap-pangeo-buckets) enable researchers to store and share data within LEAP (and soon with the entire world). We either produce, transform, or link to Analysis-Ready Cloud-Optimized (ARCO) data within LEAP.\n",
    "- **Compute**: We like working with data with JupyterLab/Notebooks as the interface, and scalable compute backed by dask running on Kubernetes. But you can bring your own compute as you like! Or just take a look at the data with the Dataviewer.\n",
    "    - All our compute and data access is based on the same central cloud storage location, and clearly documented standards/interfaces.\n",
    "- **Discovery**: The different [types of data](https://leap-stc.github.io/policies/data_policy.html#types-of-data-used-at-leap) are collected in our [LEAP Data Catalog](https://catalog.leap.carbonplan.org/) (Final URL still pending).\n",
    "\n",
    "Read more about our [design principles](https://leap-stc.github.io/leap-pangeo/architecture.html#design-principles)."
   ]
  },
  {
   "cell_type": "markdown",
   "id": "64de1243-286f-46b5-8b30-31cd37b2a474",
   "metadata": {},
   "source": [
    "## What do researchers get from this?\n",
    "- No hassle with setting up your own computer - All you need locally is a web browser!\n",
    "- You don't even need that fast of an internet connection! - I have accessed the Hub from Amtrak just fine 😁.\n",
    "- A familiar environment to work how you like, wherever you are or going to be in the future!"
   ]
  },
  {
   "cell_type": "code",
   "execution_count": 1,
   "id": "0a46a9f2-0684-41e4-85ba-ba64b4ce1ce3",
   "metadata": {},
   "outputs": [
    {
     "data": {
      "text/html": [
       "\n",
       "        <iframe\n",
       "            width=\"600\"\n",
       "            height=\"340\"\n",
       "            src=\"https://speakerdeck.com/player/33656c048003411ba1f8e7e7dfd03676?slide=16\"\n",
       "            frameborder=\"0\"\n",
       "            allowfullscreen\n",
       "            \n",
       "        ></iframe>\n",
       "        "
      ],
      "text/plain": [
       "<IPython.lib.display.IFrame at 0x7f17c44da210>"
      ]
     },
     "execution_count": 1,
     "metadata": {},
     "output_type": "execute_result"
    }
   ],
   "source": [
    "from IPython.display import IFrame\n",
    "IFrame(\"https://speakerdeck.com/player/33656c048003411ba1f8e7e7dfd03676?slide=16\", 600, 340)"
   ]
  },
  {
   "cell_type": "markdown",
   "id": "375de9fe-7fb9-4643-94d3-2b4b76cb015b",
   "metadata": {},
   "source": [
    "## How is all of this different from working on my institutions Server/HPC?\n",
    "\n",
    "- Full reproducibility: As long as you have the version of the software environment and version controlled code, you will be able to reproduce your results perfectly every time.\n",
    "- Easy collaboration within and outside LEAP. [Hermans et al. 2024](https://agupubs.onlinelibrary.wiley.com/doi/10.1029/2023EF004188?af=R) was the product of cross atlantic collaboration that felt just like being in the same city!\n",
    "- Easier support: Just send a gist, snippet, repository to the [Data and Compute Team]() and we can easily debug, suggest fixes, and get scientists back to what matters.\n",
    "- Teach on the same data, environments as you do research\n",
    "\n",
    "## What we will demo today\n",
    "We can always go off-script and live code, so feel free to ask questions at **any time**!\n",
    "\n",
    "- Quick intro to notebooks\n",
    "- Write/read data from cloud buckets, and share some data with others.\n",
    "- Open a dataset from the catalog and visualize it a couple of different ways.\n",
    "- Reproduce an IPCC plot from CMIP6 data live + optional extra CMIP6 data analysis\n",
    "- Optional: Scale up to large data: Working with high resolution ocean model output\n",
    "\n",
    "Navigate to https://github.com/jbusecke/leap-pangeo-demos to get started!"
   ]
  }
 ],
 "metadata": {
  "kernelspec": {
   "display_name": "Python 3 (ipykernel)",
   "language": "python",
   "name": "python3"
  },
  "language_info": {
   "codemirror_mode": {
    "name": "ipython",
    "version": 3
   },
   "file_extension": ".py",
   "mimetype": "text/x-python",
   "name": "python",
   "nbconvert_exporter": "python",
   "pygments_lexer": "ipython3",
   "version": "3.11.9"
  }
 },
 "nbformat": 4,
 "nbformat_minor": 5
}

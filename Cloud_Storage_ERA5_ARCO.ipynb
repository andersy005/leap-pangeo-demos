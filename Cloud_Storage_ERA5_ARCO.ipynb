{
 "cells": [
  {
   "cell_type": "markdown",
   "id": "7080662b-2d17-48c2-a965-a9df6e013b3e",
   "metadata": {},
   "source": [
    "# Crunching ARCO data and saving results on LEAP-Pangeo\n",
    "\n",
    "In this tutorial we will see how we can lazily load a gigantic analysis-ready cloud-optimized (ARCO) dataset, apply our custom analysis to it, and save the results to LEAP cloud storage.\n",
    "\n",
    "## Our Dataset: ARCO ERA5\n",
    "\n",
    "The dataset we are using is a prime example where the work by some dedicated folks to ingest and transform a dataset to an ARCO zarr store can avoid the toil of downloading/organizing/loading/preprocessing data for many users (in this case all of us). \n",
    "\n",
    "We are using [arco-era5](https://github.com/google-research/arco-era5) dataset. This is a great example of public ARCO data, and while it represents a large amount of work (ERA5 is notoriously difficult to download and process), I hope this will convince you of the downstream benefits of work like this and hopefully encourage you to [ingest]() other relevant datasets into the LEAP-Data Library. \n",
    "\n",
    "> If everyone does this for their favorite dataset, eventually all data loading becomes as easy as a copy and paste 😜"
   ]
  },
  {
   "cell_type": "code",
   "execution_count": null,
   "id": "5a1af16d-0359-4970-a19a-a009343757cd",
   "metadata": {
    "tags": []
   },
   "outputs": [],
   "source": [
    "# Literally copied and pasted this from the repos README\n",
    "import xarray as xr\n",
    "\n",
    "ar_full_37_1h = xr.open_zarr(\n",
    "    'gs://gcp-public-data-arco-era5/ar/1959-2022-full_37-1h-0p25deg-chunk-1.zarr-v2/'\n",
    ")\n",
    "ar_full_37_1h"
   ]
  },
  {
   "cell_type": "code",
   "execution_count": null,
   "id": "da55a2e8-f797-461c-bd26-5e7b45894143",
   "metadata": {
    "tags": []
   },
   "outputs": [],
   "source": [
    "# how big is this whole thing?\n",
    "print(f\"The full dataset is {ar_full_37_1h.nbytes/1e12}TB large\")"
   ]
  },
  {
   "cell_type": "markdown",
   "id": "3c78a169-d1ab-47b9-8282-5829b3b434e5",
   "metadata": {},
   "source": [
    "Ok so it only took us a few seconds to load half a PB? How is that possible?\n",
    "\n",
    "We are not actually loading the data into memory, instead we are lazily loading the dataset (only loading the dimensions into memory) and get an xarray dataset backed by dask arrays.\n",
    "\n",
    "## Exploration\n",
    "The lazy loading enables us to load 'just what we need' for interactive exploration"
   ]
  },
  {
   "cell_type": "code",
   "execution_count": null,
   "id": "c7d5fa97-0555-44fa-9047-bbdc072a0df9",
   "metadata": {
    "tags": []
   },
   "outputs": [],
   "source": [
    "# load a single time slice and plot it\n",
    "..."
   ]
  },
  {
   "cell_type": "markdown",
   "id": "2fa66820-67e5-4cca-9680-1def12bd3473",
   "metadata": {},
   "source": [
    "Nice, but ERA5 is pretty high res, and we might be interested in a certain region..."
   ]
  },
  {
   "cell_type": "code",
   "execution_count": null,
   "id": "94fda4d5-5f20-4490-82af-2ca3b65e47ff",
   "metadata": {
    "tags": []
   },
   "outputs": [],
   "source": [
    "# bonus: make this plot interactive\n",
    "import hvplot.xarray\n",
    "ar_full_37_1h['2m_temperature'].isel(time=200).hvplot(rasterize=True)"
   ]
  },
  {
   "cell_type": "markdown",
   "id": "011d7547-de6e-486d-959c-1f7788f3edcb",
   "metadata": {},
   "source": [
    "## Perform an analysis and save the aggregated results\n",
    "\n",
    "This flexibility lets you easily build up analysis steps, test them out on small subsets or slices of the data, and refine the methods. \n",
    "\n",
    "After these initial stages you might want to save a derived data produce, especially if the product is relatively small, and the computation takes a while (more on how to scale the compute in a different tutorial).\n",
    "\n",
    "For the sake of this tutorial, lets create a histogram of the surface temperature over NY state for each timestep.\n",
    "\n",
    "> use "
   ]
  },
  {
   "cell_type": "code",
   "execution_count": null,
   "id": "e98843ec-f542-4822-84df-716a673dbb69",
   "metadata": {
    "tags": []
   },
   "outputs": [],
   "source": [
    "# bounding box [lon0, lon1, lat0, lat1]\n",
    "ny_bbox = [\n",
    "    360-79.762152,\n",
    "    360-71.856214,\n",
    "    45.01585,\n",
    "    40.496103\n",
    "] # latitudes are not monotonically increasing. Maybe we should raise an issue?\n",
    "\n",
    "# select the 2m_temperature for NY state and plot a single time slice\n",
    "..."
   ]
  },
  {
   "cell_type": "code",
   "execution_count": null,
   "id": "4fdb2b6a-1a24-48ee-82ab-1930ad2abc03",
   "metadata": {
    "tags": []
   },
   "outputs": [],
   "source": [
    "from xhistogram.xarray import histogram\n",
    "import numpy as np\n",
    "\n",
    "# use xhistogram to create a time resolved histogram array \n",
    "# (select only 5000 time elements to keep computation shorter at the end)\n",
    "..."
   ]
  },
  {
   "cell_type": "code",
   "execution_count": null,
   "id": "8479dfea-3b8c-4893-9946-f07596efad8b",
   "metadata": {
    "tags": []
   },
   "outputs": [],
   "source": [
    "# Plot the temperature histogram for the first and last time step\n",
    "..."
   ]
  },
  {
   "cell_type": "code",
   "execution_count": null,
   "id": "19f8bb6b-ea13-4d65-b2a0-2336fb22b0d0",
   "metadata": {
    "tags": []
   },
   "outputs": [],
   "source": [
    "# lets store this output as a zarr store\n",
    "out_path = f\"gs://leap-scratch/{os.environ['JUPYTERHUB_USER']}/annual_meeting_demo/era5/temp_hist.zarr\"\n",
    "\n",
    "# stream the computation results directly to a cloud zarr store!\n",
    "...\n"
   ]
  },
  {
   "cell_type": "markdown",
   "id": "df2d241f-2331-4aa0-bedf-9672f743d199",
   "metadata": {},
   "source": [
    "## Reusing the output\n",
    "\n",
    "So now you can hand of this store to all your colleagues and everyone can explore the hourly histograms without having to run this long computation."
   ]
  },
  {
   "cell_type": "code",
   "execution_count": null,
   "id": "386f5b90-af8e-4193-93b6-e97810f1188b",
   "metadata": {
    "tags": []
   },
   "outputs": [],
   "source": [
    "# reload the zarr store into an xarray dataset, and load it into memory (hint: `chunks=None`)\n",
    "\n",
    "temp_hist_reloaded = xr.open_dataset(\n",
    "    ...\n",
    ")\n",
    "temp_hist_reloaded"
   ]
  },
  {
   "cell_type": "code",
   "execution_count": null,
   "id": "b14dd87c-d34a-464f-912a-046047102732",
   "metadata": {
    "tags": []
   },
   "outputs": [],
   "source": [
    "# plot a 2d plot of histogram bins vs time\n",
    "..."
   ]
  }
 ],
 "metadata": {
  "kernelspec": {
   "display_name": "Python 3 (ipykernel)",
   "language": "python",
   "name": "python3"
  },
  "language_info": {
   "codemirror_mode": {
    "name": "ipython",
    "version": 3
   },
   "file_extension": ".py",
   "mimetype": "text/x-python",
   "name": "python",
   "nbconvert_exporter": "python",
   "pygments_lexer": "ipython3",
   "version": "3.10.12"
  }
 },
 "nbformat": 4,
 "nbformat_minor": 5
}
